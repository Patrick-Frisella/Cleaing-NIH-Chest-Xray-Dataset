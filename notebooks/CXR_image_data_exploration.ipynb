{
  "cells": [
    {
      "cell_type": "markdown",
      "source": [
        "#NIH Chest Xray Data Exploration"
      ],
      "metadata": {
        "id": "jOQhmYdC6Ind"
      }
    },
    {
      "cell_type": "markdown",
      "metadata": {
        "id": "IYoaYS1V7mT0"
      },
      "source": [
        "\n",
        "\n",
        "This dataset is know to have poor data integrity. New folders will be created to review, re-interpreted, and relabel the images. These new dataset will be then be used to train an simple CNN model."
      ]
    },
    {
      "cell_type": "markdown",
      "source": [
        "#Import Libraries "
      ],
      "metadata": {
        "id": "xxRAKd7e5tmb"
      }
    },
    {
      "cell_type": "code",
      "execution_count": null,
      "metadata": {
        "id": "bCGE6Bfc7mT4"
      },
      "outputs": [],
      "source": [
        "import pandas as pd\n",
        "import os\n",
        "import shutil\n",
        "import splitfolders\n",
        "import random"
      ]
    },
    {
      "cell_type": "markdown",
      "source": [
        "#Data Exploration"
      ],
      "metadata": {
        "id": "jmmeN57qGomg"
      }
    },
    {
      "cell_type": "code",
      "execution_count": null,
      "metadata": {
        "id": "cpKsHv7g7mT6",
        "outputId": "eb5eaad1-2dc5-4ab8-dabf-43c80b288991"
      },
      "outputs": [
        {
          "data": {
            "text/html": [
              "<div>\n",
              "<style scoped>\n",
              "    .dataframe tbody tr th:only-of-type {\n",
              "        vertical-align: middle;\n",
              "    }\n",
              "\n",
              "    .dataframe tbody tr th {\n",
              "        vertical-align: top;\n",
              "    }\n",
              "\n",
              "    .dataframe thead th {\n",
              "        text-align: right;\n",
              "    }\n",
              "</style>\n",
              "<table border=\"1\" class=\"dataframe\">\n",
              "  <thead>\n",
              "    <tr style=\"text-align: right;\">\n",
              "      <th></th>\n",
              "      <th>Image Index</th>\n",
              "      <th>Finding Labels</th>\n",
              "      <th>Follow-up #</th>\n",
              "      <th>Patient ID</th>\n",
              "      <th>Patient Age</th>\n",
              "      <th>Patient Gender</th>\n",
              "      <th>View Position</th>\n",
              "      <th>OriginalImage[Width</th>\n",
              "      <th>Height]</th>\n",
              "      <th>OriginalImagePixelSpacing[x</th>\n",
              "      <th>y]</th>\n",
              "      <th>Unnamed: 11</th>\n",
              "    </tr>\n",
              "  </thead>\n",
              "  <tbody>\n",
              "    <tr>\n",
              "      <th>0</th>\n",
              "      <td>00000001_000.png</td>\n",
              "      <td>Cardiomegaly</td>\n",
              "      <td>0</td>\n",
              "      <td>1</td>\n",
              "      <td>58</td>\n",
              "      <td>M</td>\n",
              "      <td>PA</td>\n",
              "      <td>2682</td>\n",
              "      <td>2749</td>\n",
              "      <td>0.143</td>\n",
              "      <td>0.143</td>\n",
              "      <td>NaN</td>\n",
              "    </tr>\n",
              "    <tr>\n",
              "      <th>1</th>\n",
              "      <td>00000001_001.png</td>\n",
              "      <td>Cardiomegaly|Emphysema</td>\n",
              "      <td>1</td>\n",
              "      <td>1</td>\n",
              "      <td>58</td>\n",
              "      <td>M</td>\n",
              "      <td>PA</td>\n",
              "      <td>2894</td>\n",
              "      <td>2729</td>\n",
              "      <td>0.143</td>\n",
              "      <td>0.143</td>\n",
              "      <td>NaN</td>\n",
              "    </tr>\n",
              "    <tr>\n",
              "      <th>2</th>\n",
              "      <td>00000001_002.png</td>\n",
              "      <td>Cardiomegaly|Effusion</td>\n",
              "      <td>2</td>\n",
              "      <td>1</td>\n",
              "      <td>58</td>\n",
              "      <td>M</td>\n",
              "      <td>PA</td>\n",
              "      <td>2500</td>\n",
              "      <td>2048</td>\n",
              "      <td>0.168</td>\n",
              "      <td>0.168</td>\n",
              "      <td>NaN</td>\n",
              "    </tr>\n",
              "    <tr>\n",
              "      <th>3</th>\n",
              "      <td>00000002_000.png</td>\n",
              "      <td>No Finding</td>\n",
              "      <td>0</td>\n",
              "      <td>2</td>\n",
              "      <td>81</td>\n",
              "      <td>M</td>\n",
              "      <td>PA</td>\n",
              "      <td>2500</td>\n",
              "      <td>2048</td>\n",
              "      <td>0.171</td>\n",
              "      <td>0.171</td>\n",
              "      <td>NaN</td>\n",
              "    </tr>\n",
              "    <tr>\n",
              "      <th>4</th>\n",
              "      <td>00000003_000.png</td>\n",
              "      <td>Hernia</td>\n",
              "      <td>0</td>\n",
              "      <td>3</td>\n",
              "      <td>81</td>\n",
              "      <td>F</td>\n",
              "      <td>PA</td>\n",
              "      <td>2582</td>\n",
              "      <td>2991</td>\n",
              "      <td>0.143</td>\n",
              "      <td>0.143</td>\n",
              "      <td>NaN</td>\n",
              "    </tr>\n",
              "    <tr>\n",
              "      <th>...</th>\n",
              "      <td>...</td>\n",
              "      <td>...</td>\n",
              "      <td>...</td>\n",
              "      <td>...</td>\n",
              "      <td>...</td>\n",
              "      <td>...</td>\n",
              "      <td>...</td>\n",
              "      <td>...</td>\n",
              "      <td>...</td>\n",
              "      <td>...</td>\n",
              "      <td>...</td>\n",
              "      <td>...</td>\n",
              "    </tr>\n",
              "    <tr>\n",
              "      <th>112115</th>\n",
              "      <td>00030801_001.png</td>\n",
              "      <td>Mass|Pneumonia</td>\n",
              "      <td>1</td>\n",
              "      <td>30801</td>\n",
              "      <td>39</td>\n",
              "      <td>M</td>\n",
              "      <td>PA</td>\n",
              "      <td>2048</td>\n",
              "      <td>2500</td>\n",
              "      <td>0.168</td>\n",
              "      <td>0.168</td>\n",
              "      <td>NaN</td>\n",
              "    </tr>\n",
              "    <tr>\n",
              "      <th>112116</th>\n",
              "      <td>00030802_000.png</td>\n",
              "      <td>No Finding</td>\n",
              "      <td>0</td>\n",
              "      <td>30802</td>\n",
              "      <td>29</td>\n",
              "      <td>M</td>\n",
              "      <td>PA</td>\n",
              "      <td>2048</td>\n",
              "      <td>2500</td>\n",
              "      <td>0.168</td>\n",
              "      <td>0.168</td>\n",
              "      <td>NaN</td>\n",
              "    </tr>\n",
              "    <tr>\n",
              "      <th>112117</th>\n",
              "      <td>00030803_000.png</td>\n",
              "      <td>No Finding</td>\n",
              "      <td>0</td>\n",
              "      <td>30803</td>\n",
              "      <td>42</td>\n",
              "      <td>F</td>\n",
              "      <td>PA</td>\n",
              "      <td>2048</td>\n",
              "      <td>2500</td>\n",
              "      <td>0.168</td>\n",
              "      <td>0.168</td>\n",
              "      <td>NaN</td>\n",
              "    </tr>\n",
              "    <tr>\n",
              "      <th>112118</th>\n",
              "      <td>00030804_000.png</td>\n",
              "      <td>No Finding</td>\n",
              "      <td>0</td>\n",
              "      <td>30804</td>\n",
              "      <td>30</td>\n",
              "      <td>F</td>\n",
              "      <td>PA</td>\n",
              "      <td>2048</td>\n",
              "      <td>2500</td>\n",
              "      <td>0.168</td>\n",
              "      <td>0.168</td>\n",
              "      <td>NaN</td>\n",
              "    </tr>\n",
              "    <tr>\n",
              "      <th>112119</th>\n",
              "      <td>00030805_000.png</td>\n",
              "      <td>No Finding</td>\n",
              "      <td>0</td>\n",
              "      <td>30805</td>\n",
              "      <td>27</td>\n",
              "      <td>M</td>\n",
              "      <td>PA</td>\n",
              "      <td>2048</td>\n",
              "      <td>2500</td>\n",
              "      <td>0.171</td>\n",
              "      <td>0.171</td>\n",
              "      <td>NaN</td>\n",
              "    </tr>\n",
              "  </tbody>\n",
              "</table>\n",
              "<p>112120 rows × 12 columns</p>\n",
              "</div>"
            ],
            "text/plain": [
              "             Image Index          Finding Labels  Follow-up #  Patient ID  \\\n",
              "0       00000001_000.png            Cardiomegaly            0           1   \n",
              "1       00000001_001.png  Cardiomegaly|Emphysema            1           1   \n",
              "2       00000001_002.png   Cardiomegaly|Effusion            2           1   \n",
              "3       00000002_000.png              No Finding            0           2   \n",
              "4       00000003_000.png                  Hernia            0           3   \n",
              "...                  ...                     ...          ...         ...   \n",
              "112115  00030801_001.png          Mass|Pneumonia            1       30801   \n",
              "112116  00030802_000.png              No Finding            0       30802   \n",
              "112117  00030803_000.png              No Finding            0       30803   \n",
              "112118  00030804_000.png              No Finding            0       30804   \n",
              "112119  00030805_000.png              No Finding            0       30805   \n",
              "\n",
              "        Patient Age Patient Gender View Position  OriginalImage[Width  \\\n",
              "0                58              M            PA                 2682   \n",
              "1                58              M            PA                 2894   \n",
              "2                58              M            PA                 2500   \n",
              "3                81              M            PA                 2500   \n",
              "4                81              F            PA                 2582   \n",
              "...             ...            ...           ...                  ...   \n",
              "112115           39              M            PA                 2048   \n",
              "112116           29              M            PA                 2048   \n",
              "112117           42              F            PA                 2048   \n",
              "112118           30              F            PA                 2048   \n",
              "112119           27              M            PA                 2048   \n",
              "\n",
              "        Height]  OriginalImagePixelSpacing[x     y]  Unnamed: 11  \n",
              "0          2749                        0.143  0.143          NaN  \n",
              "1          2729                        0.143  0.143          NaN  \n",
              "2          2048                        0.168  0.168          NaN  \n",
              "3          2048                        0.171  0.171          NaN  \n",
              "4          2991                        0.143  0.143          NaN  \n",
              "...         ...                          ...    ...          ...  \n",
              "112115     2500                        0.168  0.168          NaN  \n",
              "112116     2500                        0.168  0.168          NaN  \n",
              "112117     2500                        0.168  0.168          NaN  \n",
              "112118     2500                        0.168  0.168          NaN  \n",
              "112119     2500                        0.171  0.171          NaN  \n",
              "\n",
              "[112120 rows x 12 columns]"
            ]
          },
          "execution_count": 2,
          "metadata": {},
          "output_type": "execute_result"
        }
      ],
      "source": [
        "# create file_path and load CSV file\n",
        "Images_PATH= \"Documents/ML/CXR\"\n",
        "df= pd.read_csv(\"Data_Entry_2017.csv\")\n",
        "pd.set_option('display.max_rows', 100)\n",
        "df\n"
      ]
    },
    {
      "cell_type": "markdown",
      "metadata": {
        "id": "acQ8mPF-7mT7"
      },
      "source": [
        "Select colomns."
      ]
    },
    {
      "cell_type": "code",
      "execution_count": null,
      "metadata": {
        "id": "cxat5IZs7mT7",
        "outputId": "ed78cc5a-f1ec-4546-e6fd-0992eafd810d"
      },
      "outputs": [
        {
          "data": {
            "text/html": [
              "<div>\n",
              "<style scoped>\n",
              "    .dataframe tbody tr th:only-of-type {\n",
              "        vertical-align: middle;\n",
              "    }\n",
              "\n",
              "    .dataframe tbody tr th {\n",
              "        vertical-align: top;\n",
              "    }\n",
              "\n",
              "    .dataframe thead th {\n",
              "        text-align: right;\n",
              "    }\n",
              "</style>\n",
              "<table border=\"1\" class=\"dataframe\">\n",
              "  <thead>\n",
              "    <tr style=\"text-align: right;\">\n",
              "      <th></th>\n",
              "      <th>Image Index</th>\n",
              "      <th>Finding Labels</th>\n",
              "      <th>Follow-up #</th>\n",
              "      <th>Patient Age</th>\n",
              "      <th>Patient Gender</th>\n",
              "      <th>View Position</th>\n",
              "    </tr>\n",
              "  </thead>\n",
              "  <tbody>\n",
              "    <tr>\n",
              "      <th>0</th>\n",
              "      <td>00000001_000.png</td>\n",
              "      <td>Cardiomegaly</td>\n",
              "      <td>0</td>\n",
              "      <td>58</td>\n",
              "      <td>M</td>\n",
              "      <td>PA</td>\n",
              "    </tr>\n",
              "    <tr>\n",
              "      <th>1</th>\n",
              "      <td>00000001_001.png</td>\n",
              "      <td>Cardiomegaly|Emphysema</td>\n",
              "      <td>1</td>\n",
              "      <td>58</td>\n",
              "      <td>M</td>\n",
              "      <td>PA</td>\n",
              "    </tr>\n",
              "    <tr>\n",
              "      <th>2</th>\n",
              "      <td>00000001_002.png</td>\n",
              "      <td>Cardiomegaly|Effusion</td>\n",
              "      <td>2</td>\n",
              "      <td>58</td>\n",
              "      <td>M</td>\n",
              "      <td>PA</td>\n",
              "    </tr>\n",
              "    <tr>\n",
              "      <th>3</th>\n",
              "      <td>00000002_000.png</td>\n",
              "      <td>No Finding</td>\n",
              "      <td>0</td>\n",
              "      <td>81</td>\n",
              "      <td>M</td>\n",
              "      <td>PA</td>\n",
              "    </tr>\n",
              "    <tr>\n",
              "      <th>4</th>\n",
              "      <td>00000003_000.png</td>\n",
              "      <td>Hernia</td>\n",
              "      <td>0</td>\n",
              "      <td>81</td>\n",
              "      <td>F</td>\n",
              "      <td>PA</td>\n",
              "    </tr>\n",
              "    <tr>\n",
              "      <th>...</th>\n",
              "      <td>...</td>\n",
              "      <td>...</td>\n",
              "      <td>...</td>\n",
              "      <td>...</td>\n",
              "      <td>...</td>\n",
              "      <td>...</td>\n",
              "    </tr>\n",
              "    <tr>\n",
              "      <th>112115</th>\n",
              "      <td>00030801_001.png</td>\n",
              "      <td>Mass|Pneumonia</td>\n",
              "      <td>1</td>\n",
              "      <td>39</td>\n",
              "      <td>M</td>\n",
              "      <td>PA</td>\n",
              "    </tr>\n",
              "    <tr>\n",
              "      <th>112116</th>\n",
              "      <td>00030802_000.png</td>\n",
              "      <td>No Finding</td>\n",
              "      <td>0</td>\n",
              "      <td>29</td>\n",
              "      <td>M</td>\n",
              "      <td>PA</td>\n",
              "    </tr>\n",
              "    <tr>\n",
              "      <th>112117</th>\n",
              "      <td>00030803_000.png</td>\n",
              "      <td>No Finding</td>\n",
              "      <td>0</td>\n",
              "      <td>42</td>\n",
              "      <td>F</td>\n",
              "      <td>PA</td>\n",
              "    </tr>\n",
              "    <tr>\n",
              "      <th>112118</th>\n",
              "      <td>00030804_000.png</td>\n",
              "      <td>No Finding</td>\n",
              "      <td>0</td>\n",
              "      <td>30</td>\n",
              "      <td>F</td>\n",
              "      <td>PA</td>\n",
              "    </tr>\n",
              "    <tr>\n",
              "      <th>112119</th>\n",
              "      <td>00030805_000.png</td>\n",
              "      <td>No Finding</td>\n",
              "      <td>0</td>\n",
              "      <td>27</td>\n",
              "      <td>M</td>\n",
              "      <td>PA</td>\n",
              "    </tr>\n",
              "  </tbody>\n",
              "</table>\n",
              "<p>112120 rows × 6 columns</p>\n",
              "</div>"
            ],
            "text/plain": [
              "             Image Index          Finding Labels  Follow-up #  Patient Age  \\\n",
              "0       00000001_000.png            Cardiomegaly            0           58   \n",
              "1       00000001_001.png  Cardiomegaly|Emphysema            1           58   \n",
              "2       00000001_002.png   Cardiomegaly|Effusion            2           58   \n",
              "3       00000002_000.png              No Finding            0           81   \n",
              "4       00000003_000.png                  Hernia            0           81   \n",
              "...                  ...                     ...          ...          ...   \n",
              "112115  00030801_001.png          Mass|Pneumonia            1           39   \n",
              "112116  00030802_000.png              No Finding            0           29   \n",
              "112117  00030803_000.png              No Finding            0           42   \n",
              "112118  00030804_000.png              No Finding            0           30   \n",
              "112119  00030805_000.png              No Finding            0           27   \n",
              "\n",
              "       Patient Gender View Position  \n",
              "0                   M            PA  \n",
              "1                   M            PA  \n",
              "2                   M            PA  \n",
              "3                   M            PA  \n",
              "4                   F            PA  \n",
              "...               ...           ...  \n",
              "112115              M            PA  \n",
              "112116              M            PA  \n",
              "112117              F            PA  \n",
              "112118              F            PA  \n",
              "112119              M            PA  \n",
              "\n",
              "[112120 rows x 6 columns]"
            ]
          },
          "execution_count": 3,
          "metadata": {},
          "output_type": "execute_result"
        }
      ],
      "source": [
        "df= df[['Image Index','Finding Labels', 'Follow-up #', 'Patient Age','Patient Gender', 'View Position' ]]\n",
        "df"
      ]
    },
    {
      "cell_type": "markdown",
      "metadata": {
        "id": "LA7jK_x77mT8"
      },
      "source": [
        "Label categories and counts."
      ]
    },
    {
      "cell_type": "code",
      "execution_count": null,
      "metadata": {
        "id": "DAiEUGSF7mT8",
        "outputId": "85a9c49d-9567-4e11-87f0-c952a79c08b1"
      },
      "outputs": [
        {
          "data": {
            "text/plain": [
              "No Finding                                                                60361\n",
              "Infiltration                                                               9547\n",
              "Atelectasis                                                                4215\n",
              "Effusion                                                                   3955\n",
              "Nodule                                                                     2705\n",
              "                                                                          ...  \n",
              "Atelectasis|Consolidation|Infiltration|Pleural_Thickening|Pneumothorax        1\n",
              "Atelectasis|Emphysema|Fibrosis|Mass                                           1\n",
              "Edema|Infiltration|Mass|Pneumothorax                                          1\n",
              "Atelectasis|Cardiomegaly|Consolidation|Edema|Effusion|Mass                    1\n",
              "Edema|Effusion|Pleural_Thickening                                             1\n",
              "Name: Finding Labels, Length: 836, dtype: int64"
            ]
          },
          "execution_count": 4,
          "metadata": {},
          "output_type": "execute_result"
        }
      ],
      "source": [
        "#Data exploration of finding labels\n",
        "df['Finding Labels'].value_counts()"
      ]
    },
    {
      "cell_type": "markdown",
      "metadata": {
        "id": "2RrNr1Xj7mT9"
      },
      "source": [
        "In clinical practice young adults have cleaner appearing chest xrays (with less chronic changes) and acute disease changes are prominent. Images with ages between 20-40 and PA view will be selected for new dataframe and new folders will be created from this dataframe."
      ]
    },
    {
      "cell_type": "code",
      "execution_count": null,
      "metadata": {
        "id": "ExAiuYSb7mT-",
        "outputId": "d918b6f8-9022-4b4e-9f4c-89cb3d03a412"
      },
      "outputs": [
        {
          "data": {
            "text/html": [
              "<div>\n",
              "<style scoped>\n",
              "    .dataframe tbody tr th:only-of-type {\n",
              "        vertical-align: middle;\n",
              "    }\n",
              "\n",
              "    .dataframe tbody tr th {\n",
              "        vertical-align: top;\n",
              "    }\n",
              "\n",
              "    .dataframe thead th {\n",
              "        text-align: right;\n",
              "    }\n",
              "</style>\n",
              "<table border=\"1\" class=\"dataframe\">\n",
              "  <thead>\n",
              "    <tr style=\"text-align: right;\">\n",
              "      <th></th>\n",
              "      <th>Image Index</th>\n",
              "      <th>Finding Labels</th>\n",
              "      <th>Follow-up #</th>\n",
              "      <th>Patient Age</th>\n",
              "      <th>Patient Gender</th>\n",
              "      <th>View Position</th>\n",
              "    </tr>\n",
              "  </thead>\n",
              "  <tbody>\n",
              "    <tr>\n",
              "      <th>407</th>\n",
              "      <td>00000101_000.png</td>\n",
              "      <td>Nodule</td>\n",
              "      <td>0</td>\n",
              "      <td>33</td>\n",
              "      <td>M</td>\n",
              "      <td>PA</td>\n",
              "    </tr>\n",
              "    <tr>\n",
              "      <th>573</th>\n",
              "      <td>00000140_000.png</td>\n",
              "      <td>No Finding</td>\n",
              "      <td>0</td>\n",
              "      <td>25</td>\n",
              "      <td>F</td>\n",
              "      <td>PA</td>\n",
              "    </tr>\n",
              "    <tr>\n",
              "      <th>574</th>\n",
              "      <td>00000141_000.png</td>\n",
              "      <td>No Finding</td>\n",
              "      <td>0</td>\n",
              "      <td>31</td>\n",
              "      <td>M</td>\n",
              "      <td>PA</td>\n",
              "    </tr>\n",
              "    <tr>\n",
              "      <th>630</th>\n",
              "      <td>00000157_000.png</td>\n",
              "      <td>Nodule</td>\n",
              "      <td>0</td>\n",
              "      <td>40</td>\n",
              "      <td>F</td>\n",
              "      <td>PA</td>\n",
              "    </tr>\n",
              "    <tr>\n",
              "      <th>777</th>\n",
              "      <td>00000190_000.png</td>\n",
              "      <td>No Finding</td>\n",
              "      <td>0</td>\n",
              "      <td>30</td>\n",
              "      <td>M</td>\n",
              "      <td>PA</td>\n",
              "    </tr>\n",
              "    <tr>\n",
              "      <th>778</th>\n",
              "      <td>00000190_001.png</td>\n",
              "      <td>No Finding</td>\n",
              "      <td>1</td>\n",
              "      <td>31</td>\n",
              "      <td>M</td>\n",
              "      <td>PA</td>\n",
              "    </tr>\n",
              "    <tr>\n",
              "      <th>779</th>\n",
              "      <td>00000190_002.png</td>\n",
              "      <td>No Finding</td>\n",
              "      <td>2</td>\n",
              "      <td>33</td>\n",
              "      <td>M</td>\n",
              "      <td>PA</td>\n",
              "    </tr>\n",
              "    <tr>\n",
              "      <th>780</th>\n",
              "      <td>00000190_003.png</td>\n",
              "      <td>No Finding</td>\n",
              "      <td>3</td>\n",
              "      <td>32</td>\n",
              "      <td>M</td>\n",
              "      <td>PA</td>\n",
              "    </tr>\n",
              "    <tr>\n",
              "      <th>781</th>\n",
              "      <td>00000190_004.png</td>\n",
              "      <td>No Finding</td>\n",
              "      <td>4</td>\n",
              "      <td>32</td>\n",
              "      <td>M</td>\n",
              "      <td>PA</td>\n",
              "    </tr>\n",
              "    <tr>\n",
              "      <th>782</th>\n",
              "      <td>00000190_005.png</td>\n",
              "      <td>No Finding</td>\n",
              "      <td>5</td>\n",
              "      <td>34</td>\n",
              "      <td>M</td>\n",
              "      <td>PA</td>\n",
              "    </tr>\n",
              "  </tbody>\n",
              "</table>\n",
              "</div>"
            ],
            "text/plain": [
              "          Image Index Finding Labels  Follow-up #  Patient Age Patient Gender  \\\n",
              "407  00000101_000.png         Nodule            0           33              M   \n",
              "573  00000140_000.png     No Finding            0           25              F   \n",
              "574  00000141_000.png     No Finding            0           31              M   \n",
              "630  00000157_000.png         Nodule            0           40              F   \n",
              "777  00000190_000.png     No Finding            0           30              M   \n",
              "778  00000190_001.png     No Finding            1           31              M   \n",
              "779  00000190_002.png     No Finding            2           33              M   \n",
              "780  00000190_003.png     No Finding            3           32              M   \n",
              "781  00000190_004.png     No Finding            4           32              M   \n",
              "782  00000190_005.png     No Finding            5           34              M   \n",
              "\n",
              "    View Position  \n",
              "407            PA  \n",
              "573            PA  \n",
              "574            PA  \n",
              "630            PA  \n",
              "777            PA  \n",
              "778            PA  \n",
              "779            PA  \n",
              "780            PA  \n",
              "781            PA  \n",
              "782            PA  "
            ]
          },
          "execution_count": 5,
          "metadata": {},
          "output_type": "execute_result"
        }
      ],
      "source": [
        "# Create and view new dataframe\n",
        "adult_20_40 = df[(df['Patient Age']>= 20) & (df['Patient Age'] <=40)]\n",
        "adult_20_40.head(10)"
      ]
    },
    {
      "cell_type": "markdown",
      "metadata": {
        "id": "eDq9T9687mT_"
      },
      "source": [
        "Find number of studies, any NaN and counts of respective finding labels."
      ]
    },
    {
      "cell_type": "code",
      "execution_count": null,
      "metadata": {
        "id": "6p-4sTUD7mT_",
        "outputId": "42f10409-9ddb-4259-bf29-b6e68ac96d46"
      },
      "outputs": [
        {
          "data": {
            "text/plain": [
              "Image Index       31131\n",
              "Finding Labels    31131\n",
              "Follow-up #       31131\n",
              "Patient Age       31131\n",
              "Patient Gender    31131\n",
              "View Position     31131\n",
              "dtype: int64"
            ]
          },
          "execution_count": 6,
          "metadata": {},
          "output_type": "execute_result"
        }
      ],
      "source": [
        "\n",
        "adult_20_40.count()"
      ]
    },
    {
      "cell_type": "code",
      "execution_count": null,
      "metadata": {
        "id": "DthNYdXW7mUA",
        "outputId": "46b941d9-19b3-4bf4-8a47-04d7268b463d"
      },
      "outputs": [
        {
          "data": {
            "text/plain": [
              "Image Index       0\n",
              "Finding Labels    0\n",
              "Follow-up #       0\n",
              "Patient Age       0\n",
              "Patient Gender    0\n",
              "View Position     0\n",
              "dtype: int64"
            ]
          },
          "execution_count": 7,
          "metadata": {},
          "output_type": "execute_result"
        }
      ],
      "source": [
        "adult_20_40.isnull().sum()"
      ]
    },
    {
      "cell_type": "code",
      "execution_count": null,
      "metadata": {
        "id": "8J0T6uN27mUD",
        "outputId": "2c1af865-eb8f-4557-99d3-40f32bc83729"
      },
      "outputs": [
        {
          "data": {
            "text/plain": [
              "No Finding                                        18006\n",
              "Infiltration                                       2965\n",
              "Effusion                                            881\n",
              "Atelectasis                                         833\n",
              "Pneumothorax                                        641\n",
              "                                                  ...  \n",
              "Atelectasis|Edema|Effusion|Infiltration|Mass          1\n",
              "Fibrosis|Nodule|Pneumothorax                          1\n",
              "Consolidation|Effusion|Mass|Pleural_Thickening        1\n",
              "Consolidation|Edema|Effusion|Infiltration             1\n",
              "Atelectasis|Edema|Infiltration|Pneumonia              1\n",
              "Name: Finding Labels, Length: 459, dtype: int64"
            ]
          },
          "execution_count": 8,
          "metadata": {},
          "output_type": "execute_result"
        }
      ],
      "source": [
        "adult_20_40['Finding Labels'].value_counts()"
      ]
    },
    {
      "cell_type": "markdown",
      "metadata": {
        "id": "kf-AYMtR7mUD"
      },
      "source": [
        "Find the count for the label \"No Finding\" and view PA."
      ]
    },
    {
      "cell_type": "code",
      "execution_count": null,
      "metadata": {
        "id": "xSFIgFSC7mUE"
      },
      "outputs": [],
      "source": [
        "cnt= 0 \n",
        "\n",
        "for (i, row) in adult_20_40.iterrows():\n",
        "    if row[\"Finding Labels\"]== \"No Finding\" and row['View Position']== 'PA':\n",
        "        cnt += 1\n",
        "print(cnt)"
      ]
    },
    {
      "cell_type": "markdown",
      "metadata": {
        "id": "UV5D1cs17mUE"
      },
      "source": [
        "Create folder for images with labels \"No Finding\" and \"PA\" view for review. "
      ]
    },
    {
      "cell_type": "code",
      "execution_count": null,
      "metadata": {
        "id": "yTD1yTpg7mUF"
      },
      "outputs": [],
      "source": [
        "TARGET_DIR= 'Dataset/Normal'\n",
        "\n",
        "if not os.path.exists(TARGET_DIR):\n",
        "    os.mkdir(TARGET_DIR)\n",
        "    print(\"CXR folder created\")"
      ]
    },
    {
      "cell_type": "code",
      "execution_count": null,
      "metadata": {
        "id": "ajpGNbv97mUF"
      },
      "outputs": [],
      "source": [
        "#Exporting images into new folder\n",
        "cnt= 0 \n",
        "\n",
        "for (i, row) in adult_20_40.iterrows():\n",
        "    if row[\"Finding Labels\"]== \"No Finding\" and row['View Position']== 'PA':\n",
        "        Image_Index= row['Image Index']\n",
        "        image_path= os.path.join(Images_PATH, Image_Index)\n",
        "        image_copy_path = os.path.join(TARGET_DIR, Image_Index) \n",
        "        shutil.copy2(image_path, image_copy_path)\n",
        "        print(\"moving image\", cnt)\n",
        "        cnt += 1"
      ]
    },
    {
      "cell_type": "markdown",
      "metadata": {
        "id": "zF7FgIEo7mUF"
      },
      "source": [
        "Create image folder with infiltration as positive finding."
      ]
    },
    {
      "cell_type": "code",
      "execution_count": null,
      "metadata": {
        "id": "atY1uniQ7mUG",
        "scrolled": true
      },
      "outputs": [],
      "source": [
        "#Exporting images into new folder\n",
        "cnt= 0 \n",
        "\n",
        "for (i, row) in adult_20_40.iterrows():\n",
        "    if row[\"Finding Labels\"]== \"Infiltration\" and row['View Position']== 'PA':\n",
        "        cnt += 1\n",
        "print(cnt)"
      ]
    },
    {
      "cell_type": "code",
      "execution_count": null,
      "metadata": {
        "id": "AW8wogEf7mUG"
      },
      "outputs": [],
      "source": [
        "#Create image folder with infiltrate as positive finding\n",
        "TARGET_DIR= 'Dataset/Positive'\n",
        "\n",
        "if not os.path.exists(TARGET_DIR):\n",
        "    os.mkdir(TARGET_DIR)\n",
        "    print(\"CXR folder created\")"
      ]
    },
    {
      "cell_type": "code",
      "execution_count": null,
      "metadata": {
        "id": "flLsjHCD7mUH"
      },
      "outputs": [],
      "source": [
        "cnt= 0 \n",
        "\n",
        "for (i, row) in adult_20_40.iterrows():\n",
        "    if row[\"Finding Labels\"]== \"Infiltration\" and row['View Position']== 'PA':\n",
        "        Image_Index= row['Image Index']\n",
        "        image_path= os.path.join(Images_PATH, Image_Index)\n",
        "        image_copy_path = os.path.join(TARGET_DIR, Image_Index) \n",
        "        shutil.copy2(image_path, image_copy_path)\n",
        "        print(\"moving image\", cnt)\n",
        "        cnt += 1"
      ]
    },
    {
      "cell_type": "markdown",
      "metadata": {
        "id": "g4S3_qOI7mUI"
      },
      "source": [
        "#Summary of the Image Quality\n",
        "\n",
        "\n",
        "    "
      ]
    },
    {
      "cell_type": "markdown",
      "source": [
        "The \"No Finding\" folder had poor data integrity. There a significant number of films mislabeled (positive findings instead of no findings); included both AP and lateral; inaccurate ages bases on xray findings (skeletally immature or advanced degenerative changes with bone demineralization); poor diagnostic quality of the study. The images were re-read and placed in a new folder was create labeled Negative_clean.\n",
        "\n",
        "The \"Infiltrate\" file again consisted of poor data integrity. Majority of images had no pulmonary findings. The images were re-read and plaed in a new folder labeled Positive_clean. Since only a small percentage could be used, more folders were created with \"Consolidation\" and \"Pneumonia\" labels used for selection."
      ],
      "metadata": {
        "id": "dxxxs_bYJS1i"
      }
    },
    {
      "cell_type": "markdown",
      "source": [
        "#Creating New Chest X-ray Image Dataset"
      ],
      "metadata": {
        "id": "dUYz4By_5ZtB"
      }
    },
    {
      "cell_type": "markdown",
      "source": [
        "Additional finding label were use to increase the number of positive findings. Consolidation, pneunomia and infiltrate present similarly in chest x-ray. Although pneunomia is techincally a diagnosis and not a strict finding, the presence of consolidation or inflitrate lead to a diagnosis of pneumonia. Positive chest x-rays in the no finding folder were manually moved into the positive dataset. "
      ],
      "metadata": {
        "id": "7Vc8oi097NSx"
      }
    },
    {
      "cell_type": "code",
      "execution_count": null,
      "metadata": {
        "id": "-lOYIYrg7mUH"
      },
      "outputs": [],
      "source": [
        "TARGET_DIR= 'Dataset/Positive_consolidation'\n",
        "\n",
        "if not os.path.exists(TARGET_DIR):\n",
        "    os.mkdir(TARGET_DIR)\n",
        "    print(\"CXR folder created\")"
      ]
    },
    {
      "cell_type": "code",
      "execution_count": null,
      "metadata": {
        "id": "sbk1TkdQ7mUH"
      },
      "outputs": [],
      "source": [
        "cnt= 0 \n",
        "\n",
        "for (i, row) in adult_20_40.iterrows():\n",
        "    if row[\"Finding Labels\"]== \"Consolidation\" and row['View Position']== 'PA':\n",
        "        Image_Index= row['Image Index']\n",
        "        image_path= os.path.join(Images_PATH, Image_Index)\n",
        "        image_copy_path = os.path.join(TARGET_DIR, Image_Index) \n",
        "        shutil.copy2(image_path, image_copy_path)\n",
        "        print(\"moving image\", cnt)\n",
        "        cnt += 1"
      ]
    },
    {
      "cell_type": "code",
      "execution_count": null,
      "metadata": {
        "id": "KzqtJmZM7mUI"
      },
      "outputs": [],
      "source": [
        "TARGET_DIR= 'Dataset/Positive_pneumonia'\n",
        "\n",
        "if not os.path.exists(TARGET_DIR):\n",
        "    os.mkdir(TARGET_DIR)\n",
        "    print(\"CXR folder created\")"
      ]
    },
    {
      "cell_type": "code",
      "execution_count": null,
      "metadata": {
        "id": "jzex2MGg7mUI"
      },
      "outputs": [],
      "source": [
        "cnt= 0 \n",
        "\n",
        "for (i, row) in adult_20_40.iterrows():\n",
        "    if row[\"Finding Labels\"]== \"Pneumonia\" and row['View Position']== 'PA':\n",
        "        Image_Index= row['Image Index']\n",
        "        image_path= os.path.join(Images_PATH, Image_Index)\n",
        "        image_copy_path = os.path.join(TARGET_DIR, Image_Index) \n",
        "        shutil.copy2(image_path, image_copy_path)\n",
        "        print(\"moving image\", cnt)\n",
        "        cnt += 1"
      ]
    },
    {
      "cell_type": "code",
      "execution_count": null,
      "metadata": {
        "id": "TdKUIpW77mUJ"
      },
      "outputs": [],
      "source": [
        "TARGET_DIR= 'Dataset/Negative_clean'\n",
        "\n",
        "if not os.path.exists(TARGET_DIR):\n",
        "    os.mkdir(TARGET_DIR)\n",
        "    print(\"CXR folder created\")"
      ]
    },
    {
      "cell_type": "code",
      "execution_count": null,
      "metadata": {
        "id": "G4mcJry_7mUJ"
      },
      "outputs": [],
      "source": [
        "TARGET_DIR= 'Dataset/Negative_clean'\n",
        "\n",
        "if not os.path.exists(TARGET_DIR):\n",
        "    os.mkdir(TARGET_DIR)\n",
        "    print(\"CXR folder created\")"
      ]
    },
    {
      "cell_type": "code",
      "execution_count": null,
      "metadata": {
        "id": "J7fo61D77mUJ"
      },
      "outputs": [],
      "source": [
        "#Create smaller dataset of cleaned no findings\n",
        "files_list = []\n",
        "\n",
        "for root, dirs, files in os.walk(r\"C:\\Users\\Matrix BR\\Dataset\\Negative_clean\"):\n",
        "    for file in files:\n",
        "        if  file.endswith(\".png\"):\n",
        "            files_list.append(os.path.join(root, file))\n",
        "\n",
        "files_normal = random.sample(files_list, 1200) \n",
        "\n",
        "destPath = r\"C:\\Users\\Matrix BR\\Dataset\\Clean\\Negative\"  \n",
        "\n",
        "if os.path.isdir(destPath) == False:\n",
        "        os.makedirs(destPath)\n",
        "\n",
        "# iteraate over all random files and copy them\n",
        "for file in files_normal:\n",
        "    shutil.copy(file, destPath)\n",
        "\n",
        "print(len(files_normal))"
      ]
    },
    {
      "cell_type": "code",
      "execution_count": null,
      "metadata": {
        "id": "zTfOs4fk7mUK"
      },
      "outputs": [],
      "source": [
        "Negative_images = df[(df[\"Image Index\"].isin(file_CXR))]"
      ]
    },
    {
      "cell_type": "markdown",
      "source": [
        "Create new CSV files:"
      ],
      "metadata": {
        "id": "YPK9jDknI5TN"
      }
    },
    {
      "cell_type": "code",
      "execution_count": null,
      "metadata": {
        "id": "Ek6QZJKv7mUK"
      },
      "outputs": [],
      "source": [
        "Negative_images.count()"
      ]
    },
    {
      "cell_type": "code",
      "execution_count": null,
      "metadata": {
        "id": "Xvnq1BPC7mUK"
      },
      "outputs": [],
      "source": [
        "Negative_images['Finding Labels'].value_counts()\n"
      ]
    },
    {
      "cell_type": "code",
      "execution_count": null,
      "metadata": {
        "id": "n8fIkWxE7mUK",
        "scrolled": true
      },
      "outputs": [],
      "source": [
        "Negative_CXR = Negative_images.replace(['Infiltration','No Finding'], 'Negative')\n",
        "Negative_CXR['Finding Labels'].value_counts()"
      ]
    },
    {
      "cell_type": "code",
      "execution_count": null,
      "metadata": {
        "id": "dpeegfcX7mUK"
      },
      "outputs": [],
      "source": [
        "#create new csv\n",
        "Negative_CXR.to_csv('Negative_clean.csv')"
      ]
    },
    {
      "cell_type": "code",
      "execution_count": null,
      "metadata": {
        "id": "wJd6Nd2f7mUL"
      },
      "outputs": [],
      "source": [
        "Negative_CXR= pd.read_csv(\"Negative_clean.csv\")\n",
        "Negative_CXR"
      ]
    },
    {
      "cell_type": "code",
      "execution_count": null,
      "metadata": {
        "id": "Azz68z-Y7mUL"
      },
      "outputs": [],
      "source": [
        "TARGET_DIR= 'Dataset/Positive_clean'\n",
        "\n",
        "if not os.path.exists(TARGET_DIR):\n",
        "    os.mkdir(TARGET_DIR)\n",
        "    print(\"CXR folder created\")"
      ]
    },
    {
      "cell_type": "code",
      "execution_count": null,
      "metadata": {
        "id": "hO5c3rvo7mUL"
      },
      "outputs": [],
      "source": [
        "Positive_images = 'Dataset/Positive_clean'\n",
        "file_CXR = os.listdir(Positive_images)\n"
      ]
    },
    {
      "cell_type": "code",
      "execution_count": null,
      "metadata": {
        "id": "XMtSYw7X7mUL"
      },
      "outputs": [],
      "source": [
        "Positive_clean = df[(df[\"Image Index\"].isin(file_CXR))]"
      ]
    },
    {
      "cell_type": "code",
      "execution_count": null,
      "metadata": {
        "id": "oIULJYQX7mUL"
      },
      "outputs": [],
      "source": [
        "Positive_clean.count()"
      ]
    },
    {
      "cell_type": "code",
      "execution_count": null,
      "metadata": {
        "id": "1K8z3twv7mUM"
      },
      "outputs": [],
      "source": [
        "Positive_clean['Finding Labels'].value_counts()"
      ]
    },
    {
      "cell_type": "code",
      "execution_count": null,
      "metadata": {
        "id": "UgRtHu-07mUM"
      },
      "outputs": [],
      "source": [
        "Positive_clean = Positive_clean.replace(['Infiltration','No Finding', 'Consolidation', 'Pneumonia'], 'Positive')\n",
        "Positive_clean['Finding Labels'].value_counts()"
      ]
    },
    {
      "cell_type": "code",
      "execution_count": null,
      "metadata": {
        "id": "Jx9UL1-R7mUM"
      },
      "outputs": [],
      "source": [
        "Positive_clean.to_csv('Positive_clean.csv')"
      ]
    },
    {
      "cell_type": "code",
      "execution_count": null,
      "metadata": {
        "id": "9COX2I-C7mUM"
      },
      "outputs": [],
      "source": [
        "Positive_clean"
      ]
    },
    {
      "cell_type": "markdown",
      "metadata": {
        "id": "A6LrDUWl7mUN"
      },
      "source": [
        "Create a new dataset folder of uncleaned images of positive and negative, \"Junk\" images."
      ]
    },
    {
      "cell_type": "code",
      "execution_count": null,
      "metadata": {
        "id": "FlZzeXF37mUN"
      },
      "outputs": [],
      "source": [
        "# Create new file of re-read xrays of dirty positive findings\n",
        "TARGET_DIR= 'Dataset/Junk_positive'\n",
        "\n",
        "if not os.path.exists(TARGET_DIR):\n",
        "    os.mkdir(TARGET_DIR)\n",
        "    print(\"CXR folder created\")"
      ]
    },
    {
      "cell_type": "code",
      "execution_count": null,
      "metadata": {
        "id": "vJunc9Ts7mUN"
      },
      "outputs": [],
      "source": [
        "cnt=0\n",
        "\n",
        "for (i, row) in adult_20_40.iterrows():\n",
        "    if row[\"Finding Labels\"]== \"Infiltration\" and row['View Position']== 'PA':\n",
        "        Image_Index= row['Image Index']\n",
        "        image_path= os.path.join(Images_PATH, Image_Index)\n",
        "        image_copy_path= os.path.join(TARGET_DIR, Image_Index)\n",
        "        shutil.copy2(image_path, image_copy_path)\n",
        "        print(\"moving image\", cnt)\n",
        "        cnt+= 1"
      ]
    },
    {
      "cell_type": "markdown",
      "metadata": {
        "id": "kaCEDb8D7mUO"
      },
      "source": [
        "Create negative dataset folder by randomly selecting 1555 images from the uncleaned no finding label to match the number of infiltrate images, 1555, for the \"Junk\" dataset. "
      ]
    },
    {
      "cell_type": "code",
      "execution_count": null,
      "metadata": {
        "id": "VK7kocpG7mUN",
        "scrolled": true
      },
      "outputs": [],
      "source": [
        "TARGET_DIR= 'Dataset/Junk_negative'\n",
        "\n",
        "if not os.path.exists(TARGET_DIR):\n",
        "    os.mkdir(TARGET_DIR)\n",
        "    print(\"CXR folder created\")"
      ]
    },
    {
      "cell_type": "code",
      "execution_count": null,
      "metadata": {
        "id": "gZ_sTgeq7mUO"
      },
      "outputs": [],
      "source": [
        "#Create smaller dataset of non cleaned no findings\n",
        "files_list = []\n",
        "\n",
        "for root, dirs, files in os.walk(r\"C:\\Users\\Matrix BR\\Dataset\\Normal\"):\n",
        "    for file in files:\n",
        "        if  file.endswith(\".png\"):\n",
        "            files_list.append(os.path.join(root, file))\n",
        "\n",
        "files_normal = random.sample(files_list, 1555) \n",
        "\n",
        "destPath = r\"C:\\Users\\Matrix BR\\Dataset\\Junk_images\\Junk_negative\"  \n",
        "\n",
        "if os.path.isdir(destPath) == False:\n",
        "        os.makedirs(destPath)\n",
        "\n",
        "# iteraate over all random files and move them\n",
        "for file in files_normal:\n",
        "    shutil.copy(file, destPath)\n",
        "    \n",
        "print(len(files_normal))"
      ]
    },
    {
      "cell_type": "markdown",
      "metadata": {
        "id": "cR8CfOFsD_XR"
      },
      "source": [
        "Larger dataset to be sorted by the classifier. The complete infiltrate, consolidation, pneumonia folders in the original dataset were combined and used for the positive. "
      ]
    },
    {
      "cell_type": "code",
      "execution_count": null,
      "metadata": {
        "id": "eqTdmVJj45pk"
      },
      "outputs": [],
      "source": [
        "TARGET_DIR= 'Dataset/Negative_for_Sorter'\n",
        "\n",
        "if not os.path.exists(TARGET_DIR):\n",
        "    os.mkdir(TARGET_DIR)\n",
        "    print(\"CXR folder created\")"
      ]
    },
    {
      "cell_type": "markdown",
      "source": [
        "Create dataset of \"Junk\" no finding images to be resorted through the calssifier."
      ],
      "metadata": {
        "id": "FfjQ2kx-FW32"
      }
    },
    {
      "cell_type": "code",
      "execution_count": null,
      "metadata": {
        "id": "3WzJKYcl45pk"
      },
      "outputs": [],
      "source": [
        "#Exporting images into new folder\n",
        "cnt= 0 \n",
        "\n",
        "for (i, row) in adult_20_40.iterrows():\n",
        "    if row[\"Finding Labels\"]== \"No Finding\" and row['View Position']== 'PA':\n",
        "        Image_Index= row['Image Index']\n",
        "        image_path= os.path.join(Images_PATH, Image_Index)\n",
        "        image_copy_path = os.path.join(TARGET_DIR, Image_Index) \n",
        "        shutil.copy2(image_path, image_copy_path)\n",
        "        print(\"moving image\", cnt)\n",
        "        cnt += 1"
      ]
    },
    {
      "cell_type": "code",
      "execution_count": null,
      "metadata": {
        "id": "oEluNPZL7mUP"
      },
      "outputs": [],
      "source": [
        "#Create smaller 10,000 image dataset of no findings\n",
        "files_list = []\n",
        "\n",
        "for root, dirs, files in os.walk(r\"C:\\Users\\Matrix BR\\Dataset\\Negative_for_Sorter\"):\n",
        "    for file in files:\n",
        "        if  file.endswith(\".png\"):\n",
        "            files_list.append(os.path.join(root, file))\n",
        "\n",
        "files_normal = random.sample(files_list,10000 ) \n",
        "\n",
        "destPath = r\"C:\\Users\\Matrix BR\\Dataset\\Smaller_negative\"  \n",
        " \n",
        "if os.path.isdir(destPath) == False:\n",
        "        os.makedirs(destPath)\n",
        "\n",
        "# iteraate over all random files and move them\n",
        "for file in files_normal:\n",
        "    shutil.copy(file, destPath)\n",
        "    \n",
        "print(len(files_normal))"
      ]
    },
    {
      "cell_type": "markdown",
      "source": [
        "#End"
      ],
      "metadata": {
        "id": "Ux0lw7k69Ftl"
      }
    }
  ],
  "metadata": {
    "colab": {
      "collapsed_sections": [],
      "provenance": []
    },
    "kernelspec": {
      "display_name": "Python 3",
      "language": "python",
      "name": "python3"
    },
    "language_info": {
      "codemirror_mode": {
        "name": "ipython",
        "version": 3
      },
      "file_extension": ".py",
      "mimetype": "text/x-python",
      "name": "python",
      "nbconvert_exporter": "python",
      "pygments_lexer": "ipython3",
      "version": "3.8.5"
    }
  },
  "nbformat": 4,
  "nbformat_minor": 0
}