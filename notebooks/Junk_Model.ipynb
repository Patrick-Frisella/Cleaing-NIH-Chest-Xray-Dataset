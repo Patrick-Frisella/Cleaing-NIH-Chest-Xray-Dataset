{
  "nbformat": 4,
  "nbformat_minor": 0,
  "metadata": {
    "colab": {
      "provenance": [],
      "collapsed_sections": [],
      "machine_shape": "hm"
    },
    "kernelspec": {
      "name": "python3",
      "display_name": "Python 3"
    },
    "language_info": {
      "name": "python"
    },
    "accelerator": "GPU"
  },
  "cells": [
    {
      "cell_type": "markdown",
      "source": [
        "#Import Libraries"
      ],
      "metadata": {
        "id": "zmggPdZM5D59"
      }
    },
    {
      "cell_type": "code",
      "source": [
        "from google.colab import drive"
      ],
      "metadata": {
        "id": "Ql8JGXjpsvuR"
      },
      "execution_count": null,
      "outputs": []
    },
    {
      "cell_type": "code",
      "source": [
        "\n",
        "import tensorflow as tf\n",
        "from tensorflow import keras\n",
        "\n",
        "from tensorflow.keras.models import Sequential\n",
        "from tensorflow.keras.layers import Conv2D, MaxPooling2D, Dropout, Flatten, Dense\n",
        "from tensorflow.keras.optimizers import Adam\n",
        "from tensorflow.keras.preprocessing.image import ImageDataGenerator\n",
        "import numpy as np\n",
        "import matplotlib.pyplot as plt\n"
      ],
      "metadata": {
        "id": "K6RXUiFoxUhE"
      },
      "execution_count": null,
      "outputs": []
    },
    {
      "cell_type": "code",
      "source": [
        "import pandas as pd\n",
        "import os\n"
      ],
      "metadata": {
        "id": "mu1-q9yavMrQ"
      },
      "execution_count": null,
      "outputs": []
    },
    {
      "cell_type": "code",
      "source": [
        "pip install split-folders"
      ],
      "metadata": {
        "colab": {
          "base_uri": "https://localhost:8080/"
        },
        "id": "w-ii2Fh5x9ke",
        "outputId": "9f4cb94b-01ad-47a6-e4a0-558a1812e418"
      },
      "execution_count": null,
      "outputs": [
        {
          "output_type": "stream",
          "name": "stdout",
          "text": [
            "Looking in indexes: https://pypi.org/simple, https://us-python.pkg.dev/colab-wheels/public/simple/\n",
            "Collecting split-folders\n",
            "  Downloading split_folders-0.5.1-py3-none-any.whl (8.4 kB)\n",
            "Installing collected packages: split-folders\n",
            "Successfully installed split-folders-0.5.1\n"
          ]
        }
      ]
    },
    {
      "cell_type": "markdown",
      "source": [
        "#Split Test and Training Data "
      ],
      "metadata": {
        "id": "xvDS1bgFetUJ"
      }
    },
    {
      "cell_type": "code",
      "source": [
        "import splitfolders"
      ],
      "metadata": {
        "id": "XMAg9WOa246W"
      },
      "execution_count": null,
      "outputs": []
    },
    {
      "cell_type": "code",
      "source": [
        "#split folder for train and test \n",
        "input_folder= \"/content/drive/MyDrive/Junk_3110\"\n",
        "output= \"/content/Junk_Data_Split\"\n",
        "\n",
        "splitfolders.ratio(input_folder, output=output,\n",
        "    seed=1337, ratio=(.8, 0, .2), group_prefix=None, move=False) \n"
      ],
      "metadata": {
        "id": "hbdNDwEf02i2",
        "colab": {
          "base_uri": "https://localhost:8080/"
        },
        "outputId": "9e81d0a5-d6a4-42a3-8e9b-10a335abe5f3"
      },
      "execution_count": null,
      "outputs": [
        {
          "output_type": "stream",
          "name": "stderr",
          "text": [
            "Copying files: 3110 files [01:30, 34.43 files/s]\n"
          ]
        }
      ]
    },
    {
      "cell_type": "code",
      "source": [
        "main_dir = \"/content/Junk_Data_Split\"\n",
        "#set the path to the test dir\n",
        "train_dir = os.path.join(main_dir, 'train' )\n",
        "test_dir = os.path.join(main_dir, 'test' )\n",
        "\n",
        "#directory with the training covid images\n",
        "train_Abnormal_dir = os.path.join(train_dir, 'Junk_positive')\n",
        "\n",
        "#directory with the training normal images\n",
        "\n",
        "train_Normal_dir = os.path.join(train_dir, 'Junk_negative')\n",
        "\n",
        "#directory with the testing covid images\n",
        "test_Abnormal_dir = os.path.join(test_dir, 'Junk_positive')\n",
        "\n",
        "#directory with the testing normal images\n",
        "test_Normal_dir = os.path.join(test_dir, 'Junk_negative')"
      ],
      "metadata": {
        "id": "-iloErl3vMlI"
      },
      "execution_count": null,
      "outputs": []
    },
    {
      "cell_type": "code",
      "source": [
        "train_Abnormal_names = os.listdir(train_Abnormal_dir)\n",
        "print(train_Abnormal_dir[:10])\n",
        "\n",
        "train_Normal_names = os.listdir(train_Normal_dir)\n",
        "print(train_Normal_names[:10])\n",
        "\n",
        "test_Abnormal_names = os.listdir(test_Abnormal_dir)\n",
        "print(test_Abnormal_names[:10])\n",
        "\n",
        "test_Normal_names = os.listdir(test_Normal_dir)\n",
        "print(test_Normal_dir[:10])"
      ],
      "metadata": {
        "colab": {
          "base_uri": "https://localhost:8080/"
        },
        "id": "ivJJWkBevMoP",
        "outputId": "e1932431-f099-43bc-f297-e0e466cde898"
      },
      "execution_count": null,
      "outputs": [
        {
          "output_type": "stream",
          "name": "stdout",
          "text": [
            "/content/J\n",
            "['00013443_006.png', '00024863_000.png', '00024697_000.png', '00029633_000.png', '00020532_000.png', '00005026_000.png', '00030686_000.png', '00004876_000.png', '00029998_004.png', '00019119_001.png']\n",
            "['00027186_000.png', '00010531_071.png', '00022141_004.png', '00016812_000.png', '00002704_028.png', '00005795_000.png', '00023075_016.png', '00023294_000.png', '00012772_009.png', '00030093_000.png']\n",
            "/content/J\n"
          ]
        }
      ]
    },
    {
      "cell_type": "code",
      "source": [
        "print('total images in training set: ', len(train_Abnormal_names+ train_Normal_names))\n",
        "print('total images in testing set: ', len(test_Abnormal_names + test_Normal_names))"
      ],
      "metadata": {
        "colab": {
          "base_uri": "https://localhost:8080/"
        },
        "id": "YUiZxglrU-C9",
        "outputId": "7069186d-a794-41b8-d749-4059ce3e787e"
      },
      "execution_count": null,
      "outputs": [
        {
          "output_type": "stream",
          "name": "stdout",
          "text": [
            "total images in training set:  2488\n",
            "total images in testing set:  622\n"
          ]
        }
      ]
    },
    {
      "cell_type": "markdown",
      "source": [
        "#Data Augmentation"
      ],
      "metadata": {
        "id": "ZvIWwsVUe0ZF"
      }
    },
    {
      "cell_type": "code",
      "source": [
        "#generate training,testing and validation batches \n",
        "dgen_train = ImageDataGenerator(rescale= 1./255, \n",
        "                                validation_split= 0.2, \n",
        "                                zoom_range= 0.2,\n",
        "                                horizontal_flip =False)\n",
        "                                \n",
        "dgen_validation = ImageDataGenerator(rescale= 1./255 )\n",
        "dgen_test = ImageDataGenerator(rescale= 1./255)\n",
        "\n",
        "\n",
        "\n",
        "train_generator= dgen_train.flow_from_directory(train_dir, \n",
        "                                                target_size= (256, 256), \n",
        "                                                color_mode= 'rgb',\n",
        "                                                subset= \"training\", \n",
        "                                                batch_size= 128, \n",
        "                                                class_mode= \"binary\")\n",
        "\n",
        "validation_generator= dgen_train.flow_from_directory(train_dir, \n",
        "                                                target_size= (256, 256),\n",
        "                                                color_mode= 'rgb',\n",
        "                                                subset= \"validation\", \n",
        "                                                batch_size= 128, \n",
        "                                                class_mode= \"binary\")\n",
        "\n",
        "test_generator= dgen_test.flow_from_directory(test_dir, \n",
        "                                              target_size= (256, 256), \n",
        "                                              color_mode= 'rgb',\n",
        "                                              batch_size= 128, \n",
        "                                              class_mode= \"binary\")\n"
      ],
      "metadata": {
        "colab": {
          "base_uri": "https://localhost:8080/"
        },
        "id": "FdAzjnqxzO2J",
        "outputId": "4dc29521-9e8a-4367-b850-70d212ddfc70"
      },
      "execution_count": null,
      "outputs": [
        {
          "output_type": "stream",
          "name": "stdout",
          "text": [
            "Found 1992 images belonging to 2 classes.\n",
            "Found 496 images belonging to 2 classes.\n",
            "Found 622 images belonging to 2 classes.\n"
          ]
        }
      ]
    },
    {
      "cell_type": "code",
      "source": [
        "#get the class indices\n",
        "train_generator.class_indices"
      ],
      "metadata": {
        "colab": {
          "base_uri": "https://localhost:8080/"
        },
        "id": "KibXQhflzPCc",
        "outputId": "40e1e017-1577-4b2a-f6c2-98691ab1ba77"
      },
      "execution_count": null,
      "outputs": [
        {
          "output_type": "execute_result",
          "data": {
            "text/plain": [
              "{'Junk_negative': 0, 'Junk_positive': 1}"
            ]
          },
          "metadata": {},
          "execution_count": 15
        }
      ]
    },
    {
      "cell_type": "code",
      "source": [
        "#image shape\n",
        "train_generator.image_shape"
      ],
      "metadata": {
        "colab": {
          "base_uri": "https://localhost:8080/"
        },
        "id": "iPH4xw0nzPK3",
        "outputId": "4bdfe196-8648-42f0-b7ab-9a935b7e849d"
      },
      "execution_count": null,
      "outputs": [
        {
          "output_type": "execute_result",
          "data": {
            "text/plain": [
              "(256, 256, 3)"
            ]
          },
          "metadata": {},
          "execution_count": 16
        }
      ]
    },
    {
      "cell_type": "markdown",
      "source": [
        "#Model and Training"
      ],
      "metadata": {
        "id": "y2P-xhe0e6HZ"
      }
    },
    {
      "cell_type": "code",
      "source": [
        "model= tf.keras.models.Sequential([\n",
        "\n",
        "tf.keras.layers.Conv2D(16, (3,3), activation='relu', input_shape=(256, 256, 3)),\n",
        "tf.keras.layers.MaxPooling2D(2, 2),\n",
        "\n",
        "tf.keras.layers.Conv2D(32, (3,3), activation='relu'),\n",
        "tf.keras.layers.MaxPooling2D(2,2),\n",
        "\n",
        "tf.keras.layers.Conv2D(64, (3,3), activation='relu'),\n",
        "tf.keras.layers.MaxPooling2D(2,2),\n",
        "\n",
        "tf.keras.layers.Conv2D(64, (3,3), activation='relu'),\n",
        "tf.keras.layers.MaxPooling2D(2,2),\n",
        "\n",
        "tf.keras.layers.Conv2D(64, (3,3), activation='relu'),\n",
        "tf.keras.layers.MaxPooling2D(2,2),\n",
        "\n",
        "tf.keras.layers.Flatten(),\n",
        "\n",
        "tf.keras.layers.Dense(512, activation='relu'),\n",
        "\n",
        "tf.keras.layers.Dense(1, activation='sigmoid')\n",
        "])\n",
        "model.summary()"
      ],
      "metadata": {
        "id": "MDE0AErsDb3c"
      },
      "execution_count": null,
      "outputs": []
    },
    {
      "cell_type": "code",
      "source": [
        "#compile the model\n",
        "model.compile(Adam(learning_rate= 0.0001),loss = 'binary_crossentropy', metrics= ['accuracy'])"
      ],
      "metadata": {
        "id": "JZw_PTDazPUL"
      },
      "execution_count": null,
      "outputs": []
    },
    {
      "cell_type": "code",
      "source": [
        "#train the model\n",
        "history = model.fit(train_generator,\n",
        "                   epochs = 20,\n",
        "                   validation_data = validation_generator) \n"
      ],
      "metadata": {
        "id": "eZ7AzUiU3pvL"
      },
      "execution_count": null,
      "outputs": []
    },
    {
      "cell_type": "code",
      "source": [
        "#save model\n",
        "model.save('Junk_data.h5')"
      ],
      "metadata": {
        "id": "AAsekIn24PkH"
      },
      "execution_count": null,
      "outputs": []
    },
    {
      "cell_type": "markdown",
      "source": [
        "#Evaluate Model"
      ],
      "metadata": {
        "id": "dEm_yv8pe98B"
      }
    },
    {
      "cell_type": "code",
      "source": [
        "#get the keys of history object\n",
        "history.history.keys()"
      ],
      "metadata": {
        "colab": {
          "base_uri": "https://localhost:8080/"
        },
        "id": "iy14kfDc3pyf",
        "outputId": "0469b687-b4f7-48ea-b8f4-3ddb5d8ea3c2"
      },
      "execution_count": null,
      "outputs": [
        {
          "output_type": "execute_result",
          "data": {
            "text/plain": [
              "dict_keys(['loss', 'accuracy', 'val_loss', 'val_accuracy'])"
            ]
          },
          "metadata": {},
          "execution_count": 21
        }
      ]
    },
    {
      "cell_type": "code",
      "source": [
        "#plot graph between training and validation loss\n",
        "plt.plot(history.history['loss'])\n",
        "plt.plot(history.history['val_loss']) \n",
        "plt.legend(['Training', 'Validation'])\n",
        "plt.title('Traing and Validation losses')\n",
        "plt.xlabel('epoch')"
      ],
      "metadata": {
        "id": "JMp6cy983p59",
        "colab": {
          "base_uri": "https://localhost:8080/",
          "height": 313
        },
        "outputId": "7b590355-66e2-430c-b590-bd587f558eda"
      },
      "execution_count": null,
      "outputs": [
        {
          "output_type": "execute_result",
          "data": {
            "text/plain": [
              "Text(0.5, 0, 'epoch')"
            ]
          },
          "metadata": {},
          "execution_count": 22
        },
        {
          "output_type": "display_data",
          "data": {
            "text/plain": [
              "<Figure size 432x288 with 1 Axes>"
            ],
            "image/png": "[encoded data removed]"
          },
          "metadata": {
            "needs_background": "light"
          }
        }
      ]
    },
    {
      "cell_type": "code",
      "source": [
        "#plot graph between training and validation accuarcy\n",
        "plt.plot(history.history['accuracy'])\n",
        "plt.plot(history.history['val_accuracy'])\n",
        "plt.legend(['Training', 'Validation'])\n",
        "plt.title('Traing and Validation accuracy')\n",
        "plt.xlabel('epoch')"
      ],
      "metadata": {
        "id": "hxvLN5UT3qA5",
        "colab": {
          "base_uri": "https://localhost:8080/",
          "height": 313
        },
        "outputId": "44f10768-4982-46e9-955c-ea4ea5e658b8"
      },
      "execution_count": null,
      "outputs": [
        {
          "output_type": "execute_result",
          "data": {
            "text/plain": [
              "Text(0.5, 0, 'epoch')"
            ]
          },
          "metadata": {},
          "execution_count": 23
        },
        {
          "output_type": "display_data",
          "data": {
            "text/plain": [
              "<Figure size 432x288 with 1 Axes>"
            ],
            "image/png": "[encoded data removed]"
          },
          "metadata": {
            "needs_background": "light"
          }
        }
      ]
    },
    {
      "cell_type": "code",
      "source": [
        "# Re-evaluate the model\n",
        "loss, acc = model.evaluate(validation_generator, verbose=2)\n",
        "print(\"Restored model, accuracy: {:5.2f}%\".format(100 * acc))"
      ],
      "metadata": {
        "colab": {
          "base_uri": "https://localhost:8080/"
        },
        "id": "BYHyKqn--Mrp",
        "outputId": "e3d04a40-4a1e-47c1-b3aa-8b4574719fb9"
      },
      "execution_count": null,
      "outputs": [
        {
          "output_type": "stream",
          "name": "stdout",
          "text": [
            "4/4 - 12s - loss: 0.6813 - accuracy: 0.5847 - 12s/epoch - 3s/step\n",
            "Restored model, accuracy: 58.47%\n"
          ]
        }
      ]
    }
  ]
}